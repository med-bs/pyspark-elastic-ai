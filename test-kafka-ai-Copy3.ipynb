{
 "cells": [
  {
   "cell_type": "code",
   "execution_count": 13,
   "id": "ff667485-6cd8-4da6-bc8c-48b418c3d2fa",
   "metadata": {
    "tags": []
   },
   "outputs": [],
   "source": [
    "from pyspark.sql import SparkSession\n",
    "#Initialize a PySpark SparkSession\n",
    "spark = SparkSession.builder.appName(\"lr_PySpark\").getOrCreate()"
   ]
  },
  {
   "cell_type": "code",
   "execution_count": 14,
   "id": "dd690c1e-f3a8-400e-983b-80895053614a",
   "metadata": {
    "tags": []
   },
   "outputs": [],
   "source": [
    "data = spark.read.format(\"csv\").option(\"header\", \"true\").load(\"./ml_model/fraudulent_transactions_anonymous_ia.csv\")"
   ]
  },
  {
   "cell_type": "code",
   "execution_count": 3,
   "id": "3f862da2-37ff-44d7-815b-24ac90a67eaa",
   "metadata": {
    "tags": []
   },
   "outputs": [
    {
     "name": "stdout",
     "output_type": "stream",
     "text": [
      "root\n",
      " |-- transaction-id: string (nullable = true)\n",
      " |-- customer-id: string (nullable = true)\n",
      " |-- account-id: string (nullable = true)\n",
      " |-- datetime: string (nullable = true)\n",
      " |-- amount: string (nullable = true)\n",
      " |-- customer_id_avrge_amount_1day: string (nullable = true)\n",
      " |-- customer_id_avrge_amount_1week: string (nullable = true)\n",
      " |-- customer_id_avrge_amount_1month: string (nullable = true)\n",
      " |-- customer_id_avrge_amount_3month: string (nullable = true)\n",
      " |-- customer_id_count_1day: string (nullable = true)\n",
      " |-- customer_id_count_1week: string (nullable = true)\n",
      " |-- customer_id_count_1month: string (nullable = true)\n",
      " |-- customer_id_count_3month: string (nullable = true)\n",
      " |-- account_id_avrge_amount_1day: string (nullable = true)\n",
      " |-- account_id_avrge_amount_1week: string (nullable = true)\n",
      " |-- account_id_avrge_amount_1month: string (nullable = true)\n",
      " |-- account_id_avrge_amount_3month: string (nullable = true)\n",
      " |-- account_id_count_1day: string (nullable = true)\n",
      " |-- account_id_count_1week: string (nullable = true)\n",
      " |-- account_id_count_1month: string (nullable = true)\n",
      " |-- account_id_count_3month: string (nullable = true)\n",
      " |-- transaction_in_weekend: string (nullable = true)\n",
      " |-- transaction_at_night: string (nullable = true)\n",
      " |-- is_fraud: string (nullable = true)\n",
      "\n"
     ]
    }
   ],
   "source": [
    "data.printSchema()"
   ]
  },
  {
   "cell_type": "code",
   "execution_count": 15,
   "id": "4dc17dfb-665b-404b-bfaa-88f307194000",
   "metadata": {
    "tags": []
   },
   "outputs": [],
   "source": [
    "from pyspark.sql.functions import col\n",
    "\n",
    "# Convert  column from String to Double\n",
    "data = data.withColumn(\"amount\", col(\"amount\").cast(\"double\"))\n",
    "\n",
    "data = data.withColumn(\"customer_id_avrge_amount_1day\", col(\"customer_id_avrge_amount_1day\").cast(\"double\"))\n",
    "data = data.withColumn(\"customer_id_avrge_amount_1week\", col(\"customer_id_avrge_amount_1week\").cast(\"double\"))\n",
    "data = data.withColumn(\"customer_id_avrge_amount_1month\", col(\"customer_id_avrge_amount_1month\").cast(\"double\"))\n",
    "data = data.withColumn(\"customer_id_avrge_amount_3month\", col(\"customer_id_avrge_amount_3month\").cast(\"double\"))\n",
    "\n",
    "data = data.withColumn(\"customer_id_count_1day\", col(\"customer_id_count_1day\").cast(\"integer\"))\n",
    "data = data.withColumn(\"customer_id_count_1week\", col(\"customer_id_count_1week\").cast(\"integer\"))\n",
    "data = data.withColumn(\"customer_id_count_1month\", col(\"customer_id_count_1month\").cast(\"integer\"))\n",
    "data = data.withColumn(\"customer_id_count_3month\", col(\"customer_id_count_3month\").cast(\"integer\"))\n",
    "\n",
    "data = data.withColumn(\"account_id_avrge_amount_1day\", col(\"account_id_avrge_amount_1day\").cast(\"double\"))\n",
    "data = data.withColumn(\"account_id_avrge_amount_1week\", col(\"account_id_avrge_amount_1week\").cast(\"double\"))\n",
    "data = data.withColumn(\"account_id_avrge_amount_1month\", col(\"account_id_avrge_amount_1month\").cast(\"double\"))\n",
    "data = data.withColumn(\"account_id_avrge_amount_3month\", col(\"account_id_avrge_amount_3month\").cast(\"double\"))\n",
    "\n",
    "data = data.withColumn(\"account_id_count_1day\", col(\"account_id_count_1day\").cast(\"integer\"))\n",
    "data = data.withColumn(\"account_id_count_1week\", col(\"account_id_count_1week\").cast(\"integer\"))\n",
    "data = data.withColumn(\"account_id_count_1month\", col(\"account_id_count_1month\").cast(\"integer\"))\n",
    "data = data.withColumn(\"account_id_count_3month\", col(\"account_id_count_3month\").cast(\"integer\"))\n",
    "\n",
    "data = data.withColumn(\"transaction_in_weekend\", col(\"transaction_in_weekend\").cast(\"integer\"))\n",
    "\n",
    "data = data.withColumn(\"transaction_at_night\", col(\"transaction_at_night\").cast(\"integer\"))\n",
    "\n",
    "data = data.withColumn(\"is_fraud\", col(\"is_fraud\").cast(\"integer\"))"
   ]
  },
  {
   "cell_type": "code",
   "execution_count": 5,
   "id": "20619c61-1ab6-49a1-9db5-f6db16cb24d4",
   "metadata": {
    "tags": []
   },
   "outputs": [
    {
     "name": "stdout",
     "output_type": "stream",
     "text": [
      "root\n",
      " |-- transaction-id: string (nullable = true)\n",
      " |-- customer-id: string (nullable = true)\n",
      " |-- account-id: string (nullable = true)\n",
      " |-- datetime: string (nullable = true)\n",
      " |-- amount: double (nullable = true)\n",
      " |-- customer_id_avrge_amount_1day: double (nullable = true)\n",
      " |-- customer_id_avrge_amount_1week: double (nullable = true)\n",
      " |-- customer_id_avrge_amount_1month: double (nullable = true)\n",
      " |-- customer_id_avrge_amount_3month: double (nullable = true)\n",
      " |-- customer_id_count_1day: integer (nullable = true)\n",
      " |-- customer_id_count_1week: integer (nullable = true)\n",
      " |-- customer_id_count_1month: integer (nullable = true)\n",
      " |-- customer_id_count_3month: integer (nullable = true)\n",
      " |-- account_id_avrge_amount_1day: double (nullable = true)\n",
      " |-- account_id_avrge_amount_1week: double (nullable = true)\n",
      " |-- account_id_avrge_amount_1month: double (nullable = true)\n",
      " |-- account_id_avrge_amount_3month: double (nullable = true)\n",
      " |-- account_id_count_1day: integer (nullable = true)\n",
      " |-- account_id_count_1week: integer (nullable = true)\n",
      " |-- account_id_count_1month: integer (nullable = true)\n",
      " |-- account_id_count_3month: integer (nullable = true)\n",
      " |-- transaction_in_weekend: integer (nullable = true)\n",
      " |-- transaction_at_night: integer (nullable = true)\n",
      " |-- is_fraud: integer (nullable = true)\n",
      "\n"
     ]
    }
   ],
   "source": [
    "data.printSchema()"
   ]
  },
  {
   "cell_type": "code",
   "execution_count": 62,
   "id": "7db6dcc7-b352-434a-a729-c18af4022a79",
   "metadata": {
    "tags": []
   },
   "outputs": [],
   "source": []
  },
  {
   "cell_type": "code",
   "execution_count": null,
   "id": "9d5bf682-5e2c-4b44-9941-8a9ad382c2c9",
   "metadata": {
    "tags": []
   },
   "outputs": [],
   "source": []
  },
  {
   "cell_type": "code",
   "execution_count": 16,
   "id": "77719ffa-ec07-411a-980d-7b6a9571a640",
   "metadata": {
    "tags": []
   },
   "outputs": [
    {
     "name": "stdout",
     "output_type": "stream",
     "text": [
      "CPU times: user 60.6 ms, sys: 4.83 ms, total: 65.4 ms\n",
      "Wall time: 3.73 s\n"
     ]
    }
   ],
   "source": [
    "%%time\n",
    "\n",
    "from pyspark.ml.feature import VectorAssembler\n",
    "\n",
    "# Define the input and output features\n",
    "output_feature = \"is_fraud\"\n",
    "input_features = [\n",
    "    'amount',\n",
    "    'customer_id_avrge_amount_1day', 'customer_id_avrge_amount_1week', 'customer_id_avrge_amount_1month', 'customer_id_avrge_amount_3month',\n",
    "    'customer_id_count_1day', 'customer_id_count_1week', 'customer_id_count_1month', 'customer_id_count_3month',\n",
    "    'account_id_avrge_amount_1day', 'account_id_avrge_amount_1week', 'account_id_avrge_amount_1month', 'account_id_avrge_amount_3month',\n",
    "    'account_id_count_1day', 'account_id_count_1week', 'account_id_count_1month', 'account_id_count_3month',\n",
    "    'transaction_in_weekend', 'transaction_at_night'\n",
    "]\n",
    "\n",
    "# Create a VectorAssembler for combining input features into a feature vector\n",
    "assembler = VectorAssembler(inputCols=input_features, outputCol=\"features\")\n",
    "\n",
    "df_data=assembler.transform(data)\n",
    "\n",
    "model_df=df_data.select(['features','is_fraud'])\n",
    "\n",
    "# Split the data into training and test sets\n",
    "(trainingData, testData) = model_df.randomSplit([0.7, 0.3])"
   ]
  },
  {
   "cell_type": "code",
   "execution_count": 12,
   "id": "7675906b-202b-41cd-8f8e-64293776a3ce",
   "metadata": {},
   "outputs": [
    {
     "name": "stdout",
     "output_type": "stream",
     "text": [
      "+--------------------+--------+\n",
      "|            features|is_fraud|\n",
      "+--------------------+--------+\n",
      "|[3.194,3.194,3.19...|       0|\n",
      "|[3.194,3.194,3.19...|       0|\n",
      "|[3.194,3.194,3.19...|       0|\n",
      "|[3.194,3.194,3.19...|       0|\n",
      "|[3.194,3.194,3.19...|       0|\n",
      "|[3.194,3.194,3.19...|       0|\n",
      "|[3.194,3.194,3.19...|       0|\n",
      "|[3.194,3.194,3.19...|       0|\n",
      "|[3.194,3.194,3.19...|       0|\n",
      "|[3.194,3.194,3.19...|       0|\n",
      "|[3.194,3.194,3.19...|       0|\n",
      "|[3.194,3.194,3.19...|       0|\n",
      "|[3.194,3.194,3.19...|       0|\n",
      "|[3.194,3.194,3.19...|       0|\n",
      "|[3.194,3.194,3.19...|       0|\n",
      "|[3.194,3.194,3.19...|       0|\n",
      "|[3.194,3.194,3.19...|       0|\n",
      "|[3.194,3.194,3.19...|       0|\n",
      "|[3.194,3.194,3.19...|       0|\n",
      "|[3.194,3.194,3.19...|       0|\n",
      "+--------------------+--------+\n",
      "only showing top 20 rows\n",
      "\n"
     ]
    }
   ],
   "source": [
    "testData.show()"
   ]
  },
  {
   "cell_type": "code",
   "execution_count": 17,
   "id": "464f560b-f97d-4076-ad1f-3417f94c36d3",
   "metadata": {
    "tags": []
   },
   "outputs": [
    {
     "name": "stdout",
     "output_type": "stream",
     "text": [
      "CPU times: user 177 ms, sys: 144 ms, total: 322 ms\n",
      "Wall time: 1min 55s\n"
     ]
    }
   ],
   "source": [
    "%%time\n",
    "\n",
    "from pyspark.ml.classification import LogisticRegression\n",
    "\n",
    "log_reg=LogisticRegression(labelCol=output_feature).fit(trainingData)\n",
    "\n",
    "# training results\n",
    "train_results=log_reg.evaluate(trainingData).predictions"
   ]
  },
  {
   "cell_type": "code",
   "execution_count": 18,
   "id": "a915fe17-9f7b-4e49-8014-d75c1a8b55c4",
   "metadata": {
    "tags": []
   },
   "outputs": [
    {
     "name": "stdout",
     "output_type": "stream",
     "text": [
      "Percentage of instances where prediction matches is_fraud: 94.51415359512971\n",
      "CPU times: user 23.3 ms, sys: 14.4 ms, total: 37.7 ms\n",
      "Wall time: 1min 4s\n"
     ]
    }
   ],
   "source": [
    "%%time\n",
    "\n",
    "from pyspark.sql.functions import expr\n",
    "\n",
    "# Counting the total number of instances\n",
    "total_count = train_results.count()\n",
    "\n",
    "# Counting the number of instances where prediction matches is_fraud\n",
    "matching_count = train_results.filter(expr(\"prediction = is_fraud\")).count()\n",
    "\n",
    "# Calculating the percentage\n",
    "matching_percentage = (matching_count / total_count) * 100\n",
    "\n",
    "print(\"Percentage of instances where prediction matches is_fraud:\", matching_percentage)"
   ]
  },
  {
   "cell_type": "code",
   "execution_count": 19,
   "id": "7b7dc528-0f8f-4ef9-8499-0dcd19f088cf",
   "metadata": {
    "tags": []
   },
   "outputs": [
    {
     "name": "stdout",
     "output_type": "stream",
     "text": [
      "CPU times: user 4.71 ms, sys: 5.09 ms, total: 9.79 ms\n",
      "Wall time: 1.38 s\n"
     ]
    }
   ],
   "source": [
    "%%time\n",
    "\n",
    "test_results=log_reg.evaluate(testData).predictions"
   ]
  },
  {
   "cell_type": "code",
   "execution_count": 20,
   "id": "ab447c17-4da4-4d5e-9b42-4fd5b2d8c2bd",
   "metadata": {
    "tags": []
   },
   "outputs": [
    {
     "name": "stdout",
     "output_type": "stream",
     "text": [
      "Percentage of instances where prediction matches is_fraud: 94.45784770124706\n",
      "CPU times: user 62.9 ms, sys: 25 ms, total: 87.9 ms\n",
      "Wall time: 1min 3s\n"
     ]
    }
   ],
   "source": [
    "%%time\n",
    "\n",
    "from pyspark.sql.functions import expr\n",
    "\n",
    "# Counting the total number of instances\n",
    "total_count = test_results.count()\n",
    "\n",
    "# Counting the number of instances where prediction matches is_fraud\n",
    "matching_count = test_results.filter(expr(\"prediction = is_fraud\")).count()\n",
    "\n",
    "# Calculating the percentage\n",
    "matching_percentage = (matching_count / total_count) * 100\n",
    "\n",
    "print(\"Percentage of instances where prediction matches is_fraud:\", matching_percentage)"
   ]
  },
  {
   "cell_type": "code",
   "execution_count": 21,
   "id": "33e764ff-044f-4e7e-b979-1a2345c48fd5",
   "metadata": {
    "tags": []
   },
   "outputs": [
    {
     "name": "stdout",
     "output_type": "stream",
     "text": [
      "Precision: 0.9434809334939014\n",
      "Recall: 0.9445784770124707\n",
      "Accuracy: 0.9445784770124707\n",
      "F1 Score: 0.9439198677888532\n",
      "CPU times: user 363 ms, sys: 282 ms, total: 645 ms\n",
      "Wall time: 2min 5s\n"
     ]
    }
   ],
   "source": [
    "%%time\n",
    "\n",
    "from pyspark.ml.evaluation import MulticlassClassificationEvaluator\n",
    "\n",
    "# Creating a MulticlassClassificationEvaluator\n",
    "evaluator = MulticlassClassificationEvaluator(labelCol=\"is_fraud\", predictionCol=\"prediction\")\n",
    "\n",
    "# Calculating precision\n",
    "precision = evaluator.evaluate(test_results, {evaluator.metricName: \"weightedPrecision\"})\n",
    "print(\"Precision:\", precision)\n",
    "\n",
    "# Calculating recall\n",
    "recall = evaluator.evaluate(test_results, {evaluator.metricName: \"weightedRecall\"})\n",
    "print(\"Recall:\", recall)\n",
    "\n",
    "# Calculating accuracy\n",
    "accuracy = evaluator.evaluate(test_results, {evaluator.metricName: \"accuracy\"})\n",
    "print(\"Accuracy:\", accuracy)\n",
    "\n",
    "# Calculating the F1 score\n",
    "f1_score = evaluator.evaluate(test_results, {evaluator.metricName: \"f1\"})\n",
    "\n",
    "print(\"F1 Score:\", f1_score)"
   ]
  },
  {
   "cell_type": "code",
   "execution_count": 22,
   "id": "0c38d5d5-6d43-409d-9232-258f3713edb0",
   "metadata": {
    "tags": []
   },
   "outputs": [],
   "source": [
    "# Save the model\n",
    "modelPath = \"lr_ml\"\n",
    "log_reg.save(modelPath)"
   ]
  }
 ],
 "metadata": {
  "kernelspec": {
   "display_name": "Python 3 (ipykernel)",
   "language": "python",
   "name": "python3"
  },
  "language_info": {
   "codemirror_mode": {
    "name": "ipython",
    "version": 3
   },
   "file_extension": ".py",
   "mimetype": "text/x-python",
   "name": "python",
   "nbconvert_exporter": "python",
   "pygments_lexer": "ipython3",
   "version": "3.10.10"
  }
 },
 "nbformat": 4,
 "nbformat_minor": 5
}
