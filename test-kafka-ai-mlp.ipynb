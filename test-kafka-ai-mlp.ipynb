{
 "cells": [
  {
   "cell_type": "code",
   "execution_count": 1,
   "id": "ff667485-6cd8-4da6-bc8c-48b418c3d2fa",
   "metadata": {
    "tags": []
   },
   "outputs": [],
   "source": [
    "from pyspark.sql import SparkSession\n",
    "#Initialize a PySpark SparkSession\n",
    "spark = SparkSession.builder.appName(\"MLPPySpark\").getOrCreate()"
   ]
  },
  {
   "cell_type": "code",
   "execution_count": 2,
   "id": "dd690c1e-f3a8-400e-983b-80895053614a",
   "metadata": {
    "tags": []
   },
   "outputs": [],
   "source": [
    "data = spark.read.format(\"csv\").option(\"header\", \"true\").load(\"./ml_model/fraudulent_transactions_anonymous_ia.csv\")"
   ]
  },
  {
   "cell_type": "code",
   "execution_count": 3,
   "id": "3f862da2-37ff-44d7-815b-24ac90a67eaa",
   "metadata": {
    "tags": []
   },
   "outputs": [
    {
     "name": "stdout",
     "output_type": "stream",
     "text": [
      "root\n",
      " |-- transaction-id: string (nullable = true)\n",
      " |-- customer-id: string (nullable = true)\n",
      " |-- account-id: string (nullable = true)\n",
      " |-- datetime: string (nullable = true)\n",
      " |-- amount: string (nullable = true)\n",
      " |-- customer_id_avrge_amount_1day: string (nullable = true)\n",
      " |-- customer_id_avrge_amount_1week: string (nullable = true)\n",
      " |-- customer_id_avrge_amount_1month: string (nullable = true)\n",
      " |-- customer_id_avrge_amount_3month: string (nullable = true)\n",
      " |-- customer_id_count_1day: string (nullable = true)\n",
      " |-- customer_id_count_1week: string (nullable = true)\n",
      " |-- customer_id_count_1month: string (nullable = true)\n",
      " |-- customer_id_count_3month: string (nullable = true)\n",
      " |-- account_id_avrge_amount_1day: string (nullable = true)\n",
      " |-- account_id_avrge_amount_1week: string (nullable = true)\n",
      " |-- account_id_avrge_amount_1month: string (nullable = true)\n",
      " |-- account_id_avrge_amount_3month: string (nullable = true)\n",
      " |-- account_id_count_1day: string (nullable = true)\n",
      " |-- account_id_count_1week: string (nullable = true)\n",
      " |-- account_id_count_1month: string (nullable = true)\n",
      " |-- account_id_count_3month: string (nullable = true)\n",
      " |-- transaction_in_weekend: string (nullable = true)\n",
      " |-- transaction_at_night: string (nullable = true)\n",
      " |-- is_fraud: string (nullable = true)\n",
      "\n"
     ]
    }
   ],
   "source": [
    "data.printSchema()"
   ]
  },
  {
   "cell_type": "code",
   "execution_count": 4,
   "id": "4dc17dfb-665b-404b-bfaa-88f307194000",
   "metadata": {
    "tags": []
   },
   "outputs": [],
   "source": [
    "from pyspark.sql.functions import col\n",
    "\n",
    "# Convert  column from String to Double\n",
    "data = data.withColumn(\"amount\", col(\"amount\").cast(\"double\"))\n",
    "\n",
    "data = data.withColumn(\"customer_id_avrge_amount_1day\", col(\"customer_id_avrge_amount_1day\").cast(\"double\"))\n",
    "data = data.withColumn(\"customer_id_avrge_amount_1week\", col(\"customer_id_avrge_amount_1week\").cast(\"double\"))\n",
    "data = data.withColumn(\"customer_id_avrge_amount_1month\", col(\"customer_id_avrge_amount_1month\").cast(\"double\"))\n",
    "data = data.withColumn(\"customer_id_avrge_amount_3month\", col(\"customer_id_avrge_amount_3month\").cast(\"double\"))\n",
    "\n",
    "data = data.withColumn(\"customer_id_count_1day\", col(\"customer_id_count_1day\").cast(\"integer\"))\n",
    "data = data.withColumn(\"customer_id_count_1week\", col(\"customer_id_count_1week\").cast(\"integer\"))\n",
    "data = data.withColumn(\"customer_id_count_1month\", col(\"customer_id_count_1month\").cast(\"integer\"))\n",
    "data = data.withColumn(\"customer_id_count_3month\", col(\"customer_id_count_3month\").cast(\"integer\"))\n",
    "\n",
    "data = data.withColumn(\"account_id_avrge_amount_1day\", col(\"account_id_avrge_amount_1day\").cast(\"double\"))\n",
    "data = data.withColumn(\"account_id_avrge_amount_1week\", col(\"account_id_avrge_amount_1week\").cast(\"double\"))\n",
    "data = data.withColumn(\"account_id_avrge_amount_1month\", col(\"account_id_avrge_amount_1month\").cast(\"double\"))\n",
    "data = data.withColumn(\"account_id_avrge_amount_3month\", col(\"account_id_avrge_amount_3month\").cast(\"double\"))\n",
    "\n",
    "data = data.withColumn(\"account_id_count_1day\", col(\"account_id_count_1day\").cast(\"integer\"))\n",
    "data = data.withColumn(\"account_id_count_1week\", col(\"account_id_count_1week\").cast(\"integer\"))\n",
    "data = data.withColumn(\"account_id_count_1month\", col(\"account_id_count_1month\").cast(\"integer\"))\n",
    "data = data.withColumn(\"account_id_count_3month\", col(\"account_id_count_3month\").cast(\"integer\"))\n",
    "\n",
    "data = data.withColumn(\"transaction_in_weekend\", col(\"transaction_in_weekend\").cast(\"integer\"))\n",
    "\n",
    "data = data.withColumn(\"transaction_at_night\", col(\"transaction_at_night\").cast(\"integer\"))\n",
    "\n",
    "data = data.withColumn(\"is_fraud\", col(\"is_fraud\").cast(\"integer\"))"
   ]
  },
  {
   "cell_type": "code",
   "execution_count": 5,
   "id": "20619c61-1ab6-49a1-9db5-f6db16cb24d4",
   "metadata": {
    "tags": []
   },
   "outputs": [
    {
     "name": "stdout",
     "output_type": "stream",
     "text": [
      "root\n",
      " |-- transaction-id: string (nullable = true)\n",
      " |-- customer-id: string (nullable = true)\n",
      " |-- account-id: string (nullable = true)\n",
      " |-- datetime: string (nullable = true)\n",
      " |-- amount: double (nullable = true)\n",
      " |-- customer_id_avrge_amount_1day: double (nullable = true)\n",
      " |-- customer_id_avrge_amount_1week: double (nullable = true)\n",
      " |-- customer_id_avrge_amount_1month: double (nullable = true)\n",
      " |-- customer_id_avrge_amount_3month: double (nullable = true)\n",
      " |-- customer_id_count_1day: integer (nullable = true)\n",
      " |-- customer_id_count_1week: integer (nullable = true)\n",
      " |-- customer_id_count_1month: integer (nullable = true)\n",
      " |-- customer_id_count_3month: integer (nullable = true)\n",
      " |-- account_id_avrge_amount_1day: double (nullable = true)\n",
      " |-- account_id_avrge_amount_1week: double (nullable = true)\n",
      " |-- account_id_avrge_amount_1month: double (nullable = true)\n",
      " |-- account_id_avrge_amount_3month: double (nullable = true)\n",
      " |-- account_id_count_1day: integer (nullable = true)\n",
      " |-- account_id_count_1week: integer (nullable = true)\n",
      " |-- account_id_count_1month: integer (nullable = true)\n",
      " |-- account_id_count_3month: integer (nullable = true)\n",
      " |-- transaction_in_weekend: integer (nullable = true)\n",
      " |-- transaction_at_night: integer (nullable = true)\n",
      " |-- is_fraud: integer (nullable = true)\n",
      "\n"
     ]
    }
   ],
   "source": [
    "data.printSchema()"
   ]
  },
  {
   "cell_type": "code",
   "execution_count": 6,
   "id": "7db6dcc7-b352-434a-a729-c18af4022a79",
   "metadata": {
    "tags": []
   },
   "outputs": [
    {
     "name": "stdout",
     "output_type": "stream",
     "text": [
      "CPU times: user 1.52 s, sys: 359 ms, total: 1.88 s\n",
      "Wall time: 19.5 s\n"
     ]
    }
   ],
   "source": [
    "%%time\n",
    "from pyspark.ml.feature import VectorAssembler\n",
    "\n",
    "\n",
    "# Define the input features column names\n",
    "feature_cols = [\n",
    "    'amount',\n",
    "    'customer_id_avrge_amount_1day', 'customer_id_avrge_amount_1week', 'customer_id_avrge_amount_1month', 'customer_id_avrge_amount_3month',\n",
    "    'customer_id_count_1day', 'customer_id_count_1week', 'customer_id_count_1month', 'customer_id_count_3month',\n",
    "    'account_id_avrge_amount_1day', 'account_id_avrge_amount_1week', 'account_id_avrge_amount_1month', 'account_id_avrge_amount_3month',\n",
    "    'account_id_count_1day', 'account_id_count_1week', 'account_id_count_1month', 'account_id_count_3month',\n",
    "    'transaction_in_weekend', 'transaction_at_night'\n",
    "]\n",
    "\n",
    "# Define the target column name\n",
    "target_col = \"is_fraud\"\n",
    "\n",
    "# Create a vector assembler to combine the input features into a single feature vector\n",
    "assembler = VectorAssembler(inputCols=feature_cols, outputCol=\"features\")\n",
    "\n",
    "# Transform the dataset using the vector assembler\n",
    "df_data = assembler.transform(data)\n",
    "\n",
    "model_df=df_data.select(['features','is_fraud'])\n",
    "\n",
    "# Split the dataset into training and testing sets\n",
    "train_data, test_data = model_df.randomSplit([0.7, 0.3], seed=123)"
   ]
  },
  {
   "cell_type": "code",
   "execution_count": 7,
   "id": "46dab671-7cce-46cc-8601-ce9fb7aafb76",
   "metadata": {
    "tags": []
   },
   "outputs": [
    {
     "name": "stdout",
     "output_type": "stream",
     "text": [
      "CPU times: user 55.3 ms, sys: 25.8 ms, total: 81.1 ms\n",
      "Wall time: 2min 52s\n"
     ]
    }
   ],
   "source": [
    "%%time\n",
    "from pyspark.ml.classification import MultilayerPerceptronClassifier\n",
    "\n",
    "# Define the layers for the MLP\n",
    "layers = [len(feature_cols), 32, 16, 2]\n",
    "\n",
    "# Create the MLP classifier\n",
    "mlp = MultilayerPerceptronClassifier(labelCol=target_col, featuresCol=\"features\", layers=layers, seed=123)\n",
    "\n",
    "# Train the MLP classifier\n",
    "model = mlp.fit(train_data)"
   ]
  },
  {
   "cell_type": "code",
   "execution_count": 8,
   "id": "30c5c9b4-2bdf-44fd-b8ad-0018f0ffab0a",
   "metadata": {
    "tags": []
   },
   "outputs": [
    {
     "name": "stdout",
     "output_type": "stream",
     "text": [
      "Accuracy: 85.67%\n",
      "CPU times: user 14.1 ms, sys: 7.24 ms, total: 21.4 ms\n",
      "Wall time: 9.01 s\n"
     ]
    }
   ],
   "source": [
    "%%time\n",
    "from pyspark.ml.evaluation import MulticlassClassificationEvaluator\n",
    "\n",
    "# Make predictions on the test data\n",
    "predictions = model.transform(test_data)\n",
    "\n",
    "# Evaluate the model\n",
    "evaluator = MulticlassClassificationEvaluator(labelCol=target_col, predictionCol=\"prediction\", metricName=\"accuracy\")\n",
    "accuracy = evaluator.evaluate(predictions)\n",
    "print(\"Accuracy: {:.2f}%\".format(accuracy * 100))"
   ]
  },
  {
   "cell_type": "code",
   "execution_count": 9,
   "id": "9d5bf682-5e2c-4b44-9941-8a9ad382c2c9",
   "metadata": {
    "tags": []
   },
   "outputs": [
    {
     "name": "stdout",
     "output_type": "stream",
     "text": [
      "+--------------------+--------+--------------------+--------------------+----------+\n",
      "|            features|is_fraud|       rawPrediction|         probability|prediction|\n",
      "+--------------------+--------+--------------------+--------------------+----------+\n",
      "|[3.194,3.194,3.19...|       0|[0.22650386846030...|[0.94820592832277...|       0.0|\n",
      "|[3.194,3.194,3.19...|       0|[0.22650386846030...|[0.94820592832277...|       0.0|\n",
      "|[3.194,3.194,3.19...|       0|[0.22650386846030...|[0.94820592832277...|       0.0|\n",
      "|[3.194,3.194,3.19...|       0|[0.22650386846030...|[0.94820592832277...|       0.0|\n",
      "|[3.194,3.194,3.19...|       0|[0.22650386846030...|[0.94820592832277...|       0.0|\n",
      "|[3.194,3.194,3.19...|       0|[0.22548870469081...|[0.94748659161814...|       0.0|\n",
      "|[3.194,3.194,3.19...|       0|[0.22091792801325...|[0.94812993212255...|       0.0|\n",
      "|[3.194,3.194,3.19...|       0|[1.01547732116015...|[0.98951976524052...|       0.0|\n",
      "|[3.194,3.194,3.19...|       0|[1.01541787454185...|[0.98951900180277...|       0.0|\n",
      "|[3.194,3.194,3.19...|       0|[1.01540530182916...|[0.98951884032116...|       0.0|\n",
      "|[3.194,3.194,3.19...|       0|[1.01540014547902...|[0.98951877409217...|       0.0|\n",
      "|[3.194,3.194,3.19...|       0|[1.01539958376236...|[0.98951876687732...|       0.0|\n",
      "|[3.194,3.194,3.19...|       0|[0.66686576181882...|[0.97805453656869...|       0.0|\n",
      "|[3.194,3.194,3.19...|       0|[1.11519337833382...|[0.99105306885929...|       0.0|\n",
      "|[3.194,3.194,3.19...|       0|[1.24018566863428...|[0.99347027923521...|       0.0|\n",
      "|[3.194,3.194,3.19...|       0|[0.98627622369495...|[0.98845507470753...|       0.0|\n",
      "|[3.194,3.194,3.19...|       0|[0.69563894579182...|[0.97932842693272...|       0.0|\n",
      "|[3.194,3.194,3.19...|       0|[0.94922214665535...|[0.98975183805090...|       0.0|\n",
      "|[3.194,3.194,3.19...|       0|[0.96743647357775...|[0.98883151190473...|       0.0|\n",
      "|[3.194,3.194,3.19...|       0|[0.96749125877182...|[0.98883186889051...|       0.0|\n",
      "+--------------------+--------+--------------------+--------------------+----------+\n",
      "only showing top 20 rows\n",
      "\n",
      "CPU times: user 1.79 ms, sys: 552 µs, total: 2.34 ms\n",
      "Wall time: 3.21 s\n"
     ]
    }
   ],
   "source": [
    "%%time\n",
    "predictions.show()"
   ]
  },
  {
   "cell_type": "code",
   "execution_count": 10,
   "id": "c6c727d8-b652-44cf-acf8-d5990d59636e",
   "metadata": {
    "tags": []
   },
   "outputs": [],
   "source": [
    "# Save the model\n",
    "model.save(\"mlp_ml\")"
   ]
  },
  {
   "cell_type": "code",
   "execution_count": 11,
   "id": "33e764ff-044f-4e7e-b979-1a2345c48fd5",
   "metadata": {
    "tags": []
   },
   "outputs": [
    {
     "name": "stdout",
     "output_type": "stream",
     "text": [
      "Precision: 0.7339534142771261\n",
      "Recall: 0.8567108113460027\n",
      "Accuracy: 0.8567108113460027\n",
      "F1 Score: 0.7905952933457144\n",
      "CPU times: user 44.3 ms, sys: 11 ms, total: 55.3 ms\n",
      "Wall time: 23.2 s\n"
     ]
    }
   ],
   "source": [
    "%%time\n",
    "from pyspark.ml.evaluation import MulticlassClassificationEvaluator\n",
    "\n",
    "# Creating a MulticlassClassificationEvaluator\n",
    "evaluator = MulticlassClassificationEvaluator(labelCol=\"is_fraud\", predictionCol=\"prediction\")\n",
    "\n",
    "# Calculating precision\n",
    "precision = evaluator.evaluate(predictions, {evaluator.metricName: \"weightedPrecision\"})\n",
    "print(\"Precision:\", precision)\n",
    "\n",
    "# Calculating recall\n",
    "recall = evaluator.evaluate(predictions, {evaluator.metricName: \"weightedRecall\"})\n",
    "print(\"Recall:\", recall)\n",
    "\n",
    "# Calculating accuracy\n",
    "accuracy = evaluator.evaluate(predictions, {evaluator.metricName: \"accuracy\"})\n",
    "print(\"Accuracy:\", accuracy)\n",
    "\n",
    "# Calculating the F1 score\n",
    "f1_score = evaluator.evaluate(predictions, {evaluator.metricName: \"f1\"})\n",
    "\n",
    "print(\"F1 Score:\", f1_score)"
   ]
  }
 ],
 "metadata": {
  "kernelspec": {
   "display_name": "Python 3 (ipykernel)",
   "language": "python",
   "name": "python3"
  },
  "language_info": {
   "codemirror_mode": {
    "name": "ipython",
    "version": 3
   },
   "file_extension": ".py",
   "mimetype": "text/x-python",
   "name": "python",
   "nbconvert_exporter": "python",
   "pygments_lexer": "ipython3",
   "version": "3.10.10"
  }
 },
 "nbformat": 4,
 "nbformat_minor": 5
}
