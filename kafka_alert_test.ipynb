{
 "cells": [
  {
   "cell_type": "code",
   "execution_count": 1,
   "id": "d452bdda-1970-483b-b9e6-a90952392843",
   "metadata": {
    "tags": []
   },
   "outputs": [],
   "source": [
    "from kafka.admin import KafkaAdminClient, NewTopic\n",
    "from kafka.errors import TopicAlreadyExistsError\n",
    "from kafka import KafkaProducer\n",
    "import json"
   ]
  },
  {
   "cell_type": "code",
   "execution_count": 2,
   "id": "a2f8a839-f036-4c31-8deb-38edaf1c3f18",
   "metadata": {
    "tags": []
   },
   "outputs": [],
   "source": [
    "# Define the Kafka bootstrap servers\n",
    "kafka_bootstrap_servers = 'kafka:9092'\n",
    "\n",
    "# Define the topic name and configuration\n",
    "topic_name = 'notification_topic_test'\n",
    "topic_partitions = 1\n",
    "topic_replication_factor = 1"
   ]
  },
  {
   "cell_type": "code",
   "execution_count": 3,
   "id": "91a30689-716a-4d27-9433-88d851ab5b51",
   "metadata": {
    "tags": []
   },
   "outputs": [
    {
     "name": "stdout",
     "output_type": "stream",
     "text": [
      "Topic created successfully.\n",
      "CPU times: user 66.1 ms, sys: 7.28 ms, total: 73.4 ms\n",
      "Wall time: 838 ms\n"
     ]
    }
   ],
   "source": [
    "%%time\n",
    "\n",
    "# Create an instance of KafkaAdminClient\n",
    "admin_client = KafkaAdminClient(bootstrap_servers=kafka_bootstrap_servers)\n",
    "\n",
    "# Check if the topic already exists\n",
    "topic_exists = topic_name in admin_client.list_topics()\n",
    "\n",
    "# Create the topic if it doesn't exist\n",
    "if not topic_exists:\n",
    "    new_topic = NewTopic(name=topic_name, num_partitions=topic_partitions, replication_factor=topic_replication_factor)\n",
    "    try:\n",
    "        admin_client.create_topics(new_topics=[new_topic])\n",
    "        print(\"Topic created successfully.\")\n",
    "    except TopicAlreadyExistsError:\n",
    "        print(\"Topic already exists.\")\n",
    "else:\n",
    "    print(\"Topic already exists.\")\n",
    "\n",
    "# Close the admin client\n",
    "admin_client.close()"
   ]
  },
  {
   "cell_type": "code",
   "execution_count": 5,
   "id": "153e7d70-1ed9-4c7f-beed-a56ecbbc9223",
   "metadata": {
    "tags": []
   },
   "outputs": [
    {
     "name": "stdout",
     "output_type": "stream",
     "text": [
      "Notification sent successfully.\n",
      "CPU times: user 31.7 ms, sys: 2.84 ms, total: 34.6 ms\n",
      "Wall time: 135 ms\n"
     ]
    }
   ],
   "source": [
    "%%time\n",
    "try:\n",
    "    # Create a Kafka producer\n",
    "    producer = KafkaProducer(bootstrap_servers=kafka_bootstrap_servers,\n",
    "                             value_serializer=lambda v: json.dumps(v).encode('utf-8'))\n",
    "\n",
    "    # Sample data to send as a notification\n",
    "    notification_data = {\"message\": \"Hello, ReactJS!\"}\n",
    "\n",
    "    # Convert the data to JSON and send it to Kafka\n",
    "    producer.send(topic_name, value=notification_data)\n",
    "\n",
    "    # Flush and close the producer\n",
    "    producer.flush()\n",
    "    producer.close()\n",
    "\n",
    "    print(\"Notification sent successfully.\")\n",
    "\n",
    "except Exception as e:\n",
    "    print(f\"Failed to send notification: {str(e)}\")"
   ]
  },
  {
   "cell_type": "code",
   "execution_count": 8,
   "id": "1642ac60-f21a-4d90-9c6d-00c295d58a4f",
   "metadata": {
    "tags": []
   },
   "outputs": [
    {
     "name": "stdout",
     "output_type": "stream",
     "text": [
      "+---+-------------+-----+\n",
      "|age|         city| name|\n",
      "+---+-------------+-----+\n",
      "| 30|     New York| John|\n",
      "| 28|San Francisco|Alice|\n",
      "| 35|      Chicago|  Bob|\n",
      "+---+-------------+-----+\n",
      "\n"
     ]
    }
   ],
   "source": [
    "from pyspark.sql import SparkSession\n",
    "\n",
    "# Create a SparkSession\n",
    "spark = SparkSession.builder.getOrCreate()\n",
    "\n",
    "# Example data: List of dictionaries\n",
    "data = [\n",
    "    {\"name\": \"John\", \"age\": 30, \"city\": \"New York\"},\n",
    "    {\"name\": \"Alice\", \"age\": 28, \"city\": \"San Francisco\"},\n",
    "    {\"name\": \"Bob\", \"age\": 35, \"city\": \"Chicago\"}\n",
    "]\n",
    "\n",
    "# Convert list of dictionaries to RDD\n",
    "rdd = spark.sparkContext.parallelize(data)\n",
    "\n",
    "# Create DataFrame from RDD\n",
    "df = spark.createDataFrame(rdd)\n",
    "\n",
    "# Show the DataFrame\n",
    "df.show()"
   ]
  },
  {
   "cell_type": "code",
   "execution_count": 11,
   "id": "131f07fa-587c-403a-a850-406e90a21a34",
   "metadata": {
    "tags": []
   },
   "outputs": [
    {
     "data": {
      "text/plain": [
       "[{'name': 'John', 'age': 30, 'city': 'New York'},\n",
       " {'name': 'Alice', 'age': 28, 'city': 'San Francisco'},\n",
       " {'name': 'Bob', 'age': 35, 'city': 'Chicago'}]"
      ]
     },
     "execution_count": 11,
     "metadata": {},
     "output_type": "execute_result"
    }
   ],
   "source": [
    "rdd.collect()"
   ]
  }
 ],
 "metadata": {
  "kernelspec": {
   "display_name": "Python 3 (ipykernel)",
   "language": "python",
   "name": "python3"
  },
  "language_info": {
   "codemirror_mode": {
    "name": "ipython",
    "version": 3
   },
   "file_extension": ".py",
   "mimetype": "text/x-python",
   "name": "python",
   "nbconvert_exporter": "python",
   "pygments_lexer": "ipython3",
   "version": "3.10.10"
  }
 },
 "nbformat": 4,
 "nbformat_minor": 5
}
