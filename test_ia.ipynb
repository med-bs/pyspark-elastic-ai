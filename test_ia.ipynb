{
 "cells": [
  {
   "cell_type": "code",
   "execution_count": 17,
   "id": "45078b9a-a5bc-425a-9ace-cca8930fc891",
   "metadata": {
    "tags": []
   },
   "outputs": [
    {
     "name": "stdout",
     "output_type": "stream",
     "text": [
      "CPU times: user 6.44 ms, sys: 1.77 ms, total: 8.21 ms\n",
      "Wall time: 469 ms\n"
     ]
    }
   ],
   "source": [
    "%%time\n",
    "\n",
    "from pyspark.sql import SparkSession\n",
    "\n",
    "#Initialize a PySpark SparkSession\n",
    "spark = SparkSession.builder \\\n",
    "    .appName(\"MllibExample\") \\\n",
    "    .getOrCreate()"
   ]
  },
  {
   "cell_type": "markdown",
   "id": "1dbcdb69-d9dc-4b93-94b9-7b485d311150",
   "metadata": {},
   "source": [
    "## test data"
   ]
  },
  {
   "cell_type": "code",
   "execution_count": 18,
   "id": "eab39ed3-2b61-45d9-93ca-9015d9569107",
   "metadata": {
    "tags": []
   },
   "outputs": [
    {
     "name": "stdout",
     "output_type": "stream",
     "text": [
      "+--------------------+\n",
      "|            features|\n",
      "+--------------------+\n",
      "|[75.0,75.0,80.0,8...|\n",
      "|[7500.0,7500.0,50...|\n",
      "+--------------------+\n",
      "\n",
      "CPU times: user 94 ms, sys: 10.7 ms, total: 105 ms\n",
      "Wall time: 5.57 s\n"
     ]
    }
   ],
   "source": [
    "%%time\n",
    "from pyspark.ml.feature import VectorAssembler\n",
    "\n",
    "\n",
    "data = spark.createDataFrame([\n",
    "    (75,\n",
    "     75, 80, 80, 80,\n",
    "     1, 2, 2, 2,\n",
    "     75, 75, 75, 75,\n",
    "     1, 1, 1, 2,\n",
    "     0, 0\n",
    "    ),\n",
    "    (7500,\n",
    "     7500, 5000, 3000, 2500,\n",
    "     1, 2, 3, 4,\n",
    "     7000, 6000, 4500, 2775,\n",
    "     2, 4, 5, 7,\n",
    "     1, 1\n",
    "    )\n",
    "], [\n",
    "    'amount',\n",
    "    'customer_id_avrge_amount_1day', 'customer_id_avrge_amount_1week', 'customer_id_avrge_amount_1month', 'customer_id_avrge_amount_3month',\n",
    "    'customer_id_count_1day', 'customer_id_count_1week', 'customer_id_count_1month', 'customer_id_count_3month',\n",
    "    'account_id_avrge_amount_1day', 'account_id_avrge_amount_1week', 'account_id_avrge_amount_1month', 'account_id_avrge_amount_3month',\n",
    "    'account_id_count_1day', 'account_id_count_1week', 'account_id_count_1month', 'account_id_count_3month',\n",
    "    'transaction_in_weekend', 'transaction_at_night'\n",
    "])\n",
    "\n",
    "# Define the input features column names\n",
    "feature_cols = [\n",
    "    'amount',\n",
    "    'customer_id_avrge_amount_1day', 'customer_id_avrge_amount_1week', 'customer_id_avrge_amount_1month', 'customer_id_avrge_amount_3month',\n",
    "    'customer_id_count_1day', 'customer_id_count_1week', 'customer_id_count_1month', 'customer_id_count_3month',\n",
    "    'account_id_avrge_amount_1day', 'account_id_avrge_amount_1week', 'account_id_avrge_amount_1month', 'account_id_avrge_amount_3month',\n",
    "    'account_id_count_1day', 'account_id_count_1week', 'account_id_count_1month', 'account_id_count_3month',\n",
    "    'transaction_in_weekend', 'transaction_at_night'\n",
    "]\n",
    "\n",
    "# Define the target column name\n",
    "target_col = \"is_fraud\"\n",
    "\n",
    "# Create a vector assembler to combine the input features into a single feature vector\n",
    "assembler = VectorAssembler(inputCols=feature_cols, outputCol=\"features\")\n",
    "\n",
    "# Transform the dataset using the vector assembler\n",
    "df_data = assembler.transform(data)\n",
    "\n",
    "prediction_test_data = df_data.select(['features'])\n",
    "prediction_test_data.show()"
   ]
  },
  {
   "cell_type": "markdown",
   "id": "8b680061-38d2-4ff1-b93f-f81943e71515",
   "metadata": {
    "tags": []
   },
   "source": [
    "## mllib LR"
   ]
  },
  {
   "cell_type": "code",
   "execution_count": 19,
   "id": "e147b33a-191f-4009-8552-22039c5f08e7",
   "metadata": {
    "tags": []
   },
   "outputs": [
    {
     "name": "stdout",
     "output_type": "stream",
     "text": [
      "CPU times: user 19.5 ms, sys: 8.72 ms, total: 28.2 ms\n",
      "Wall time: 8.31 s\n"
     ]
    }
   ],
   "source": [
    "%%time\n",
    "\n",
    "from pyspark.ml.classification import LogisticRegressionModel\n",
    "\n",
    "lr_model = LogisticRegressionModel.load(\"lr_ml\")"
   ]
  },
  {
   "cell_type": "code",
   "execution_count": 20,
   "id": "b16ebcc2-aa11-49f6-bb30-8f5959d3e218",
   "metadata": {
    "tags": []
   },
   "outputs": [
    {
     "name": "stdout",
     "output_type": "stream",
     "text": [
      "CPU times: user 8.19 ms, sys: 1.19 ms, total: 9.37 ms\n",
      "Wall time: 76.7 ms\n"
     ]
    }
   ],
   "source": [
    "%%time\n",
    "lr_predictions = lr_model.transform(prediction_test_data)"
   ]
  },
  {
   "cell_type": "code",
   "execution_count": 23,
   "id": "2931f6c9-23f8-4866-a1ab-c83b68603394",
   "metadata": {
    "tags": []
   },
   "outputs": [
    {
     "name": "stdout",
     "output_type": "stream",
     "text": [
      "+--------------------+--------------------+--------------------+----------+\n",
      "|            features|       rawPrediction|         probability|prediction|\n",
      "+--------------------+--------------------+--------------------+----------+\n",
      "|[75.0,75.0,80.0,8...|[16.9614953733361...|[0.99999995697547...|       0.0|\n",
      "|[7500.0,7500.0,50...|[-55.516184808450...|[7.75581214435529...|       1.0|\n",
      "+--------------------+--------------------+--------------------+----------+\n",
      "\n",
      "CPU times: user 3.04 ms, sys: 222 µs, total: 3.26 ms\n",
      "Wall time: 338 ms\n"
     ]
    }
   ],
   "source": [
    "%%time\n",
    "lr_predictions.show()"
   ]
  },
  {
   "cell_type": "code",
   "execution_count": 30,
   "id": "12457479-a210-42db-af3d-d1f2017a4a76",
   "metadata": {
    "tags": []
   },
   "outputs": [
    {
     "data": {
      "text/plain": [
       "DenseVector([7500.0, 7500.0, 5000.0, 3000.0, 2500.0, 1.0, 2.0, 3.0, 4.0, 7000.0, 6000.0, 4500.0, 2775.0, 2.0, 4.0, 5.0, 7.0, 1.0, 1.0])"
      ]
     },
     "execution_count": 30,
     "metadata": {},
     "output_type": "execute_result"
    }
   ],
   "source": [
    "lr_predictions.select(\"features\").collect()[1][0]"
   ]
  },
  {
   "cell_type": "code",
   "execution_count": 49,
   "id": "2e0e1b67-87c3-42be-9954-89a84dcc4fb2",
   "metadata": {
    "tags": []
   },
   "outputs": [
    {
     "name": "stdout",
     "output_type": "stream",
     "text": [
      "+---------------------------------------------------------------------------------------------------------+\n",
      "|features                                                                                                 |\n",
      "+---------------------------------------------------------------------------------------------------------+\n",
      "|[11500.0,1500.0,5000.0,3000.0,2500.0,1.0,2.0,3.0,4.0,7000.0,6000.0,4500.0,2775.0,2.0,4.0,5.0,7.0,1.0,1.0]|\n",
      "+---------------------------------------------------------------------------------------------------------+\n",
      "\n",
      "CPU times: user 9.08 ms, sys: 2.35 ms, total: 11.4 ms\n",
      "Wall time: 258 ms\n"
     ]
    }
   ],
   "source": [
    "%%time\n",
    "from pyspark.ml.linalg import Vectors\n",
    "\n",
    "dense_vector = Vectors.dense([11500.0, 1500.0, 5000.0, 3000.0, 2500.0, 1.0, 2.0, 3.0, 4.0, 7000.0, 6000.0, 4500.0, 2775.0, 2.0, 4.0, 5.0, 7.0, 1.0, 1.0])\n",
    "data_vect = spark.createDataFrame([\n",
    "   (dense_vector,),\n",
    "], [\n",
    " 'features'\n",
    "])\n",
    "data_vect.show(truncate=False)"
   ]
  },
  {
   "cell_type": "code",
   "execution_count": 51,
   "id": "278756c5-a41c-4c6c-b4aa-5bda37195284",
   "metadata": {
    "tags": []
   },
   "outputs": [
    {
     "name": "stdout",
     "output_type": "stream",
     "text": [
      "CPU times: user 16.9 ms, sys: 3.06 ms, total: 20 ms\n",
      "Wall time: 210 ms\n"
     ]
    },
    {
     "data": {
      "text/plain": [
       "1.0"
      ]
     },
     "execution_count": 51,
     "metadata": {},
     "output_type": "execute_result"
    }
   ],
   "source": [
    "%%time\n",
    "lr_model.transform(data_vect).select(['prediction']).collect()[0][0]"
   ]
  },
  {
   "cell_type": "markdown",
   "id": "61341e2a-fd32-4ed7-bcf6-32b7a2089726",
   "metadata": {
    "tags": []
   },
   "source": [
    "## mllib MLP"
   ]
  },
  {
   "cell_type": "code",
   "execution_count": 14,
   "id": "42d438d0-2d14-4149-adac-4f860c4b93c7",
   "metadata": {
    "tags": []
   },
   "outputs": [
    {
     "name": "stdout",
     "output_type": "stream",
     "text": [
      "CPU times: user 72.6 ms, sys: 2.81 ms, total: 75.4 ms\n",
      "Wall time: 4.53 s\n"
     ]
    }
   ],
   "source": [
    "%%time\n",
    "\n",
    "from pyspark.ml.classification import MultilayerPerceptronClassificationModel\n",
    "#load saved model\n",
    "mlp_model = MultilayerPerceptronClassificationModel.load(\"mlp_ml\")"
   ]
  },
  {
   "cell_type": "code",
   "execution_count": 15,
   "id": "ed95142d-9e3a-4e3d-b38c-71a1a1bf46fa",
   "metadata": {
    "tags": []
   },
   "outputs": [
    {
     "name": "stdout",
     "output_type": "stream",
     "text": [
      "CPU times: user 16.8 ms, sys: 5.91 ms, total: 22.7 ms\n",
      "Wall time: 357 ms\n"
     ]
    }
   ],
   "source": [
    "%%time\n",
    "\n",
    "# Make predictions\n",
    "mlp_predictions = mlp_model.transform(prediction_test_data)"
   ]
  },
  {
   "cell_type": "code",
   "execution_count": 16,
   "id": "d714cb04-c55f-42bd-8505-ad2e364dbf8e",
   "metadata": {
    "tags": []
   },
   "outputs": [
    {
     "name": "stdout",
     "output_type": "stream",
     "text": [
      "+--------------------+--------------------+--------------------+----------+\n",
      "|            features|       rawPrediction|         probability|prediction|\n",
      "+--------------------+--------------------+--------------------+----------+\n",
      "|[75.0,75.0,80.0,8...|[0.05044739035084...|[0.92734005871064...|       0.0|\n",
      "|[7500.0,7500.0,50...|[-0.4487054816695...|[0.78895819884336...|       0.0|\n",
      "+--------------------+--------------------+--------------------+----------+\n",
      "\n",
      "CPU times: user 4.46 ms, sys: 2.25 ms, total: 6.71 ms\n",
      "Wall time: 4.62 s\n"
     ]
    }
   ],
   "source": [
    "%%time\n",
    "mlp_predictions.show()"
   ]
  },
  {
   "cell_type": "code",
   "execution_count": 53,
   "id": "77401636-63ee-462f-ac38-277eceea26fa",
   "metadata": {
    "tags": []
   },
   "outputs": [
    {
     "data": {
      "text/plain": [
       "0.0"
      ]
     },
     "execution_count": 53,
     "metadata": {},
     "output_type": "execute_result"
    }
   ],
   "source": [
    "mlp_model.transform(data_vect).select(['prediction']).collect()[0][0]"
   ]
  },
  {
   "cell_type": "code",
   "execution_count": 56,
   "id": "8a9ef894-8155-4d23-9e6c-2f2c4cb09625",
   "metadata": {
    "tags": []
   },
   "outputs": [
    {
     "data": {
      "text/plain": [
       "{'a': 1}"
      ]
     },
     "execution_count": 56,
     "metadata": {},
     "output_type": "execute_result"
    }
   ],
   "source": [
    "m={}\n",
    "m['a']=1\n",
    "m"
   ]
  }
 ],
 "metadata": {
  "kernelspec": {
   "display_name": "Python 3 (ipykernel)",
   "language": "python",
   "name": "python3"
  },
  "language_info": {
   "codemirror_mode": {
    "name": "ipython",
    "version": 3
   },
   "file_extension": ".py",
   "mimetype": "text/x-python",
   "name": "python",
   "nbconvert_exporter": "python",
   "pygments_lexer": "ipython3",
   "version": "3.10.10"
  }
 },
 "nbformat": 4,
 "nbformat_minor": 5
}
