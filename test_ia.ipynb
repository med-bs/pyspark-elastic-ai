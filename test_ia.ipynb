{
 "cells": [
  {
   "cell_type": "code",
   "execution_count": 4,
   "id": "45078b9a-a5bc-425a-9ace-cca8930fc891",
   "metadata": {
    "tags": []
   },
   "outputs": [
    {
     "name": "stdout",
     "output_type": "stream",
     "text": [
      "CPU times: user 3.85 ms, sys: 1.32 ms, total: 5.17 ms\n",
      "Wall time: 8.77 ms\n"
     ]
    }
   ],
   "source": [
    "%%time\n",
    "\n",
    "from pyspark.sql import SparkSession\n",
    "\n",
    "#Initialize a PySpark SparkSession\n",
    "spark = SparkSession.builder \\\n",
    "    .appName(\"MllibExample\") \\\n",
    "    .getOrCreate()"
   ]
  },
  {
   "cell_type": "markdown",
   "id": "1dbcdb69-d9dc-4b93-94b9-7b485d311150",
   "metadata": {},
   "source": [
    "## test data"
   ]
  },
  {
   "cell_type": "code",
   "execution_count": 11,
   "id": "eab39ed3-2b61-45d9-93ca-9015d9569107",
   "metadata": {},
   "outputs": [
    {
     "name": "stdout",
     "output_type": "stream",
     "text": [
      "+--------------------+\n",
      "|            features|\n",
      "+--------------------+\n",
      "|[75.0,75.0,80.0,8...|\n",
      "|[7500.0,7500.0,50...|\n",
      "+--------------------+\n",
      "\n",
      "CPU times: user 22.8 ms, sys: 7.36 ms, total: 30.2 ms\n",
      "Wall time: 567 ms\n"
     ]
    }
   ],
   "source": [
    "%%time\n",
    "from pyspark.ml.feature import VectorAssembler\n",
    "\n",
    "\n",
    "data = spark.createDataFrame([\n",
    "    (75,\n",
    "     75, 80, 80, 80,\n",
    "     1, 2, 2, 2,\n",
    "     75, 75, 75, 75,\n",
    "     1, 1, 1, 2,\n",
    "     0, 0\n",
    "    ),\n",
    "    (7500,\n",
    "     7500, 5000, 3000, 2500,\n",
    "     1, 2, 3, 4,\n",
    "     7000, 6000, 4500, 2775,\n",
    "     2, 4, 5, 7,\n",
    "     1, 1\n",
    "    )\n",
    "], [\n",
    "    'amount',\n",
    "    'customer_id_avrge_amount_1day', 'customer_id_avrge_amount_1week', 'customer_id_avrge_amount_1month', 'customer_id_avrge_amount_3month',\n",
    "    'customer_id_count_1day', 'customer_id_count_1week', 'customer_id_count_1month', 'customer_id_count_3month',\n",
    "    'account_id_avrge_amount_1day', 'account_id_avrge_amount_1week', 'account_id_avrge_amount_1month', 'account_id_avrge_amount_3month',\n",
    "    'account_id_count_1day', 'account_id_count_1week', 'account_id_count_1month', 'account_id_count_3month',\n",
    "    'transaction_in_weekend', 'transaction_at_night'\n",
    "])\n",
    "\n",
    "# Define the input features column names\n",
    "feature_cols = [\n",
    "    'amount',\n",
    "    'customer_id_avrge_amount_1day', 'customer_id_avrge_amount_1week', 'customer_id_avrge_amount_1month', 'customer_id_avrge_amount_3month',\n",
    "    'customer_id_count_1day', 'customer_id_count_1week', 'customer_id_count_1month', 'customer_id_count_3month',\n",
    "    'account_id_avrge_amount_1day', 'account_id_avrge_amount_1week', 'account_id_avrge_amount_1month', 'account_id_avrge_amount_3month',\n",
    "    'account_id_count_1day', 'account_id_count_1week', 'account_id_count_1month', 'account_id_count_3month',\n",
    "    'transaction_in_weekend', 'transaction_at_night'\n",
    "]\n",
    "\n",
    "# Define the target column name\n",
    "target_col = \"is_fraud\"\n",
    "\n",
    "# Create a vector assembler to combine the input features into a single feature vector\n",
    "assembler = VectorAssembler(inputCols=feature_cols, outputCol=\"features\")\n",
    "\n",
    "# Transform the dataset using the vector assembler\n",
    "df_data = assembler.transform(data)\n",
    "\n",
    "prediction_test_data = df_data.select(['features'])\n",
    "prediction_test_data.show()"
   ]
  },
  {
   "cell_type": "markdown",
   "id": "8b680061-38d2-4ff1-b93f-f81943e71515",
   "metadata": {
    "tags": []
   },
   "source": [
    "## mllib LR"
   ]
  },
  {
   "cell_type": "code",
   "execution_count": 12,
   "id": "e147b33a-191f-4009-8552-22039c5f08e7",
   "metadata": {
    "tags": []
   },
   "outputs": [
    {
     "name": "stdout",
     "output_type": "stream",
     "text": [
      "CPU times: user 7.24 ms, sys: 4.87 ms, total: 12.1 ms\n",
      "Wall time: 256 ms\n"
     ]
    }
   ],
   "source": [
    "%%time\n",
    "\n",
    "from pyspark.ml.classification import LogisticRegressionModel\n",
    "\n",
    "lr_model = LogisticRegressionModel.load(\"lr_ml\")"
   ]
  },
  {
   "cell_type": "code",
   "execution_count": 13,
   "id": "b16ebcc2-aa11-49f6-bb30-8f5959d3e218",
   "metadata": {
    "tags": []
   },
   "outputs": [
    {
     "name": "stdout",
     "output_type": "stream",
     "text": [
      "CPU times: user 13.2 ms, sys: 4.67 ms, total: 17.8 ms\n",
      "Wall time: 222 ms\n"
     ]
    }
   ],
   "source": [
    "%%time\n",
    "lr_predictions = lr_model.transform(prediction_test_data)"
   ]
  },
  {
   "cell_type": "code",
   "execution_count": 15,
   "id": "2931f6c9-23f8-4866-a1ab-c83b68603394",
   "metadata": {
    "tags": []
   },
   "outputs": [
    {
     "name": "stdout",
     "output_type": "stream",
     "text": [
      "+--------------------+--------------------+--------------------+----------+\n",
      "|            features|       rawPrediction|         probability|prediction|\n",
      "+--------------------+--------------------+--------------------+----------+\n",
      "|[75.0,75.0,80.0,8...|[16.9614953733361...|[0.99999995697547...|       0.0|\n",
      "|[7500.0,7500.0,50...|[-55.516184808450...|[7.75581214435529...|       1.0|\n",
      "+--------------------+--------------------+--------------------+----------+\n",
      "\n",
      "CPU times: user 4.54 ms, sys: 2.24 ms, total: 6.78 ms\n",
      "Wall time: 507 ms\n"
     ]
    }
   ],
   "source": [
    "%%time\n",
    "lr_predictions.show()"
   ]
  },
  {
   "cell_type": "markdown",
   "id": "61341e2a-fd32-4ed7-bcf6-32b7a2089726",
   "metadata": {
    "tags": []
   },
   "source": [
    "## mllib MLP"
   ]
  },
  {
   "cell_type": "code",
   "execution_count": 22,
   "id": "42d438d0-2d14-4149-adac-4f860c4b93c7",
   "metadata": {
    "tags": []
   },
   "outputs": [
    {
     "name": "stdout",
     "output_type": "stream",
     "text": [
      "CPU times: user 10.3 ms, sys: 7.03 ms, total: 17.3 ms\n",
      "Wall time: 185 ms\n"
     ]
    }
   ],
   "source": [
    "%%time\n",
    "\n",
    "from pyspark.ml.classification import MultilayerPerceptronClassifier\n",
    "\n",
    "#load saved model\n",
    "mlp_model = MultilayerPerceptronClassifier.load(\"mlp_ml\")"
   ]
  },
  {
   "cell_type": "code",
   "execution_count": 23,
   "id": "ed95142d-9e3a-4e3d-b38c-71a1a1bf46fa",
   "metadata": {
    "tags": []
   },
   "outputs": [
    {
     "ename": "AttributeError",
     "evalue": "'MultilayerPerceptronClassifier' object has no attribute 'transform'",
     "output_type": "error",
     "traceback": [
      "\u001b[0;31m---------------------------------------------------------------------------\u001b[0m",
      "\u001b[0;31mAttributeError\u001b[0m                            Traceback (most recent call last)",
      "File \u001b[0;32m<timed exec>:2\u001b[0m\n",
      "\u001b[0;31mAttributeError\u001b[0m: 'MultilayerPerceptronClassifier' object has no attribute 'transform'"
     ]
    }
   ],
   "source": [
    "%%time\n",
    "\n",
    "# Make predictions\n",
    "mlp_predictions = mlp_model.transform(prediction_test_data)"
   ]
  },
  {
   "cell_type": "code",
   "execution_count": 8,
   "id": "d714cb04-c55f-42bd-8505-ad2e364dbf8e",
   "metadata": {
    "tags": []
   },
   "outputs": [
    {
     "ename": "NameError",
     "evalue": "name 'mlp_predictions' is not defined",
     "output_type": "error",
     "traceback": [
      "\u001b[0;31m---------------------------------------------------------------------------\u001b[0m",
      "\u001b[0;31mNameError\u001b[0m                                 Traceback (most recent call last)",
      "File \u001b[0;32m<timed eval>:1\u001b[0m\n",
      "\u001b[0;31mNameError\u001b[0m: name 'mlp_predictions' is not defined"
     ]
    }
   ],
   "source": [
    "%%time\n",
    "mlp_predictions.show()"
   ]
  }
 ],
 "metadata": {
  "kernelspec": {
   "display_name": "Python 3 (ipykernel)",
   "language": "python",
   "name": "python3"
  },
  "language_info": {
   "codemirror_mode": {
    "name": "ipython",
    "version": 3
   },
   "file_extension": ".py",
   "mimetype": "text/x-python",
   "name": "python",
   "nbconvert_exporter": "python",
   "pygments_lexer": "ipython3",
   "version": "3.10.10"
  }
 },
 "nbformat": 4,
 "nbformat_minor": 5
}
